{
  "nbformat": 4,
  "nbformat_minor": 0,
  "metadata": {
    "colab": {
      "provenance": [],
      "mount_file_id": "1RhhcgG6pD8IxoeIuL0mL_tWZAMJTSOqI",
      "authorship_tag": "ABX9TyNHRYopokJUhFIqp7gRO4hI",
      "include_colab_link": true
    },
    "kernelspec": {
      "name": "python3",
      "display_name": "Python 3"
    },
    "language_info": {
      "name": "python"
    }
  },
  "cells": [
    {
      "cell_type": "markdown",
      "metadata": {
        "id": "view-in-github",
        "colab_type": "text"
      },
      "source": [
        "<a href=\"https://colab.research.google.com/github/Debayan2004/BR_Segmentation/blob/main/Augmentation.ipynb\" target=\"_parent\"><img src=\"https://colab.research.google.com/assets/colab-badge.svg\" alt=\"Open In Colab\"/></a>"
      ]
    },
    {
      "cell_type": "code",
      "source": [
        "import os\n",
        "import nibabel as nib\n",
        "import numpy as np\n",
        "import random\n",
        "from scipy.ndimage import rotate, zoom\n",
        "from skimage import exposure\n",
        "from skimage.transform import resize  # Import resize for rescaling\n",
        "\n",
        "# Define paths\n",
        "main_dir = '/content/drive/MyDrive/BS_2018/training_dataset'\n",
        "new_folder = os.path.join(main_dir, '107')  # New folder to store augmented data\n",
        "\n",
        "# Create new folder structure\n",
        "if not os.path.exists(new_folder):\n",
        "    os.makedirs(new_folder)\n",
        "\n",
        "for sub_folder in ['pre', 'segm.nii']:\n",
        "    os.makedirs(os.path.join(new_folder, sub_folder), exist_ok=True)\n",
        "\n",
        "# Target size for resizing\n",
        "target_size = (240, 240, 48)\n",
        "\n",
        "# Augmentation functions\n",
        "def adjust_intensity(image):\n",
        "    \"\"\" Adjust intensity using histogram equalization or contrast adjustment. \"\"\"\n",
        "    return exposure.equalize_hist(image)\n",
        "\n",
        "def rotate_image(image, angle):\n",
        "    \"\"\" Rotate the image randomly by a certain angle. \"\"\"\n",
        "    return rotate(image, angle, axes=(0, 1), reshape=False, order=1)\n",
        "\n",
        "def flip_image(image):\n",
        "    \"\"\" Flip the image randomly along x, y, or z axis. \"\"\"\n",
        "    flip_axis = random.choice([0, 1, 2])\n",
        "    return np.flip(image, axis=flip_axis)\n",
        "\n",
        "def zoom_image(image, zoom_factor=1.1):\n",
        "    \"\"\" Apply zoom to the image. \"\"\"\n",
        "    return zoom(image, zoom_factor)\n",
        "\n",
        "def augment_image(image):\n",
        "    \"\"\" Apply a combination of augmentation techniques. \"\"\"\n",
        "    image = adjust_intensity(image)\n",
        "    if random.random() > 0.5:\n",
        "        image = rotate_image(image, angle=random.uniform(-20, 20))\n",
        "    if random.random() > 0.5:\n",
        "        image = flip_image(image)\n",
        "    if random.random() > 0.5:\n",
        "        image = zoom_image(image, zoom_factor=random.uniform(0.9, 1.1))\n",
        "    return image\n",
        "\n",
        "def resize_image(image):\n",
        "    \"\"\" Resize the image to the target size. \"\"\"\n",
        "    return resize(image, target_size, mode='constant', preserve_range=True)\n",
        "\n",
        "# Process folders\n",
        "folders = ['1', '14', '27', '29', '4', '5', '7']\n",
        "\n",
        "for folder in folders:\n",
        "    pre_dir = os.path.join(main_dir, folder, 'pre')\n",
        "    seg_dir = os.path.join(main_dir, folder, 'segm.nii')\n",
        "\n",
        "    # Augment pre MRI images (FLAIR, T1, IR, reg_T1, reg_IR)\n",
        "    for image_name in ['FLAIR.nii/FLAIR.nii', 'T1.nii/T1.nii', 'IR.nii/IR.nii', 'reg_T1.nii/reg_T1.nii', 'reg_IR.nii/reg_IR.nii']:\n",
        "        image_path = os.path.join(pre_dir, image_name)\n",
        "        image_data = nib.load(image_path).get_fdata()\n",
        "\n",
        "        # Apply augmentation\n",
        "        augmented_image = augment_image(image_data)\n",
        "        # Resize augmented image\n",
        "        resized_image = resize_image(augmented_image)\n",
        "\n",
        "        # Create subfolder structure in the new directory\n",
        "        sub_folder_path = os.path.join(new_folder, 'pre', os.path.dirname(image_name))\n",
        "        if not os.path.exists(sub_folder_path):\n",
        "            os.makedirs(sub_folder_path)\n",
        "\n",
        "        # Save augmented image to new folder\n",
        "        new_image_path = os.path.join(sub_folder_path, os.path.basename(image_name))  # Use the full path with folder\n",
        "        nib.save(nib.Nifti1Image(resized_image, None), new_image_path)\n",
        "\n",
        "    # Augment segmentation mask\n",
        "    seg_path = os.path.join(seg_dir, 'segm.nii')\n",
        "    seg_data = nib.load(seg_path).get_fdata()\n",
        "\n",
        "    # Augment segmentation mask (use same transformations as for images)\n",
        "    augmented_seg = augment_image(seg_data)\n",
        "    # Resize augmented segmentation mask\n",
        "    resized_seg = resize_image(augmented_seg)\n",
        "\n",
        "    # Save augmented segmentation mask\n",
        "    new_seg_path = os.path.join(new_folder, 'segm.nii', 'segm.nii')\n",
        "    nib.save(nib.Nifti1Image(resized_seg, None), new_seg_path)\n",
        "\n",
        "print(f\"Augmented data stored in {new_folder}\")\n"
      ],
      "metadata": {
        "colab": {
          "base_uri": "https://localhost:8080/"
        },
        "id": "-UKKtTeY5loi",
        "outputId": "9d71c5b6-0435-405d-e981-bf8cbaa72af4"
      },
      "execution_count": 9,
      "outputs": [
        {
          "output_type": "stream",
          "name": "stdout",
          "text": [
            "Augmented data stored in /content/drive/MyDrive/BS_2018/training_dataset/107\n"
          ]
        }
      ]
    },
    {
      "cell_type": "code",
      "source": [],
      "metadata": {
        "id": "Zdd0M4LOCle7"
      },
      "execution_count": null,
      "outputs": []
    }
  ]
}